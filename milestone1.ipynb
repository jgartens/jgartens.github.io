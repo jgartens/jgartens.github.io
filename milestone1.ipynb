{
 "cells": [
  {
   "cell_type": "markdown",
   "metadata": {},
   "source": [
    "# Tutorial Milestone 1 - Jacob Gartenstein"
   ]
  },
  {
   "cell_type": "markdown",
   "metadata": {},
   "source": [
    "https://jgartens.github.io/"
   ]
  },
  {
   "cell_type": "markdown",
   "metadata": {},
   "source": [
    "   For this tutorial, I plan on analyzing one of several datasets relating to music features, reviews, and consumption.  Music is my proposed focus because it relates to my life and studies in areas outside of computer science.  My second major is Jazz Studies, and my computer science capstone is a machine learning project that aims to create a generative dance graphic based on data connecting musical features and dance patterns.  This tutorial will help with my own work in this project, for which we will also be scraping and analyzing the song data provided by the Spotify API.  Below I propose three data sets of potential focus for this tutorial.\n",
    "\n",
    "Spotify Audio Features – Available on Kaggle, posted by tomigelo \n",
    "\tThis Spotify Audio Features dataset is the most intriguing to me because of its relation to my capstone project.  The dataset describes songs (rows) with several different variables, including artist name, track ID, track name, artist name.  The remaining 18 variables are the audio features themselves, which include common musical features like duration, tempo, time signature, and key signature, and also other features coined by Spotify, for example acousticness and danceability.  There’s information about roughly 130k songs in the dataset.  My primary source of interest in this dataset is the connection with my capstone project, and the prospect of having multiple opportunities for different classes to familiarize myself with this information and how to work with it efficiently.  I also think that the finalized tutorial for this course done on the Spotify API would be a valuable resource to include with the capstone project, and it could even be edited to describe exactly the processes involved in the capstone.  For the tutorial, this data could be analyzed in several ways.  Various audio features could be combined and compared in order to reach informative conclusions.  For example, what effect does tempo have on danceability?  What connection might mode (the musical mode, scale or sound of a piece) have with Spotify’s variable valence (happiness meter, basically)?  The dataset is also alluring because of its size and uniformity -  13k songs is a lot, and Spotify describes exactly the format of each feature on its website. \n",
    "Link: https://www.kaggle.com/tomigelo/spotify-audio-features/data\n",
    "\n",
    "Spotify’s Worldwide Daily Song Ranking – Available on Kaggle, posted by Eduardo \n",
    "\tOnce again, this dataset is compiled from information provided by Spotify.  This data, however, pertains to users’ consumption of the music rather than attributes of the music itself.  The data set contains two years worth of daily rankings 1 – 200 for the most listened songs on Spotify in 53 different countries.  There are over 2 million rows of data corresponding to 18,598 different songs and 105 billion total streams.  This information can be analyzed to produce interesting findings related to longevity of popularity of songs, trends in popular music in different regions of the world, and countless other observations. \n",
    "Link: https://www.kaggle.com/edumucelli/spotifys-worldwide-daily-song-ranking\n",
    "\n",
    "Amazon’s Digital Music Purchase Reviews  -- \n",
    "\tThis dataset, provided by some guy on reddit assumedly via Amazon, gives over 1 million different user reviews on digital music purchased from Amazon.  The direct input from users makes this an interesting dataset to work with, and analysis would require more text parsing then with the other sets.  For this, it would be interesting to find trends in key words within reviews, and explore connections between those keywords and the music being reviewed.  \n",
    "Link: \n"
   ]
  },
  {
   "cell_type": "markdown",
   "metadata": {},
   "source": [
    "## Milestone 2: Extraction, Transform, and Load (ETL) + Exploratory Data Analysis "
   ]
  },
  {
   "cell_type": "markdown",
   "metadata": {},
   "source": [
    "I'm choosing to continue with the first data set from above, the Spotify Audio Features.  I'm choosing this data set because of it's breadth - it contains both popularity data (based on # of plays) and data about the data itself.  I'll be using the data set from April 2019 because it's the largest and most recent.  Since the data set comes as a CSV file, it's easy to load into Pandas - which I do below."
   ]
  },
  {
   "cell_type": "code",
   "execution_count": 1,
   "metadata": {},
   "outputs": [],
   "source": [
    "import pandas as pd\n",
    "import numpy as np\n",
    "import seaborn as sns"
   ]
  },
  {
   "cell_type": "code",
   "execution_count": 2,
   "metadata": {},
   "outputs": [
    {
     "data": {
      "text/html": [
       "<div>\n",
       "<style scoped>\n",
       "    .dataframe tbody tr th:only-of-type {\n",
       "        vertical-align: middle;\n",
       "    }\n",
       "\n",
       "    .dataframe tbody tr th {\n",
       "        vertical-align: top;\n",
       "    }\n",
       "\n",
       "    .dataframe thead th {\n",
       "        text-align: right;\n",
       "    }\n",
       "</style>\n",
       "<table border=\"1\" class=\"dataframe\">\n",
       "  <thead>\n",
       "    <tr style=\"text-align: right;\">\n",
       "      <th></th>\n",
       "      <th>artist_name</th>\n",
       "      <th>track_id</th>\n",
       "      <th>track_name</th>\n",
       "      <th>acousticness</th>\n",
       "      <th>danceability</th>\n",
       "      <th>duration_ms</th>\n",
       "      <th>energy</th>\n",
       "      <th>instrumentalness</th>\n",
       "      <th>key</th>\n",
       "      <th>liveness</th>\n",
       "      <th>loudness</th>\n",
       "      <th>mode</th>\n",
       "      <th>speechiness</th>\n",
       "      <th>tempo</th>\n",
       "      <th>time_signature</th>\n",
       "      <th>valence</th>\n",
       "      <th>popularity</th>\n",
       "    </tr>\n",
       "  </thead>\n",
       "  <tbody>\n",
       "    <tr>\n",
       "      <th>0</th>\n",
       "      <td>YG</td>\n",
       "      <td>2RM4jf1Xa9zPgMGRDiht8O</td>\n",
       "      <td>Big Bank feat. 2 Chainz, Big Sean, Nicki Minaj</td>\n",
       "      <td>0.005820</td>\n",
       "      <td>0.743</td>\n",
       "      <td>238373</td>\n",
       "      <td>0.339</td>\n",
       "      <td>0.000</td>\n",
       "      <td>1</td>\n",
       "      <td>0.0812</td>\n",
       "      <td>-7.678</td>\n",
       "      <td>1</td>\n",
       "      <td>0.4090</td>\n",
       "      <td>203.927</td>\n",
       "      <td>4</td>\n",
       "      <td>0.118</td>\n",
       "      <td>15</td>\n",
       "    </tr>\n",
       "    <tr>\n",
       "      <th>1</th>\n",
       "      <td>YG</td>\n",
       "      <td>1tHDG53xJNGsItRA3vfVgs</td>\n",
       "      <td>BAND DRUM (feat. A$AP Rocky)</td>\n",
       "      <td>0.024400</td>\n",
       "      <td>0.846</td>\n",
       "      <td>214800</td>\n",
       "      <td>0.557</td>\n",
       "      <td>0.000</td>\n",
       "      <td>8</td>\n",
       "      <td>0.2860</td>\n",
       "      <td>-7.259</td>\n",
       "      <td>1</td>\n",
       "      <td>0.4570</td>\n",
       "      <td>159.009</td>\n",
       "      <td>4</td>\n",
       "      <td>0.371</td>\n",
       "      <td>0</td>\n",
       "    </tr>\n",
       "    <tr>\n",
       "      <th>2</th>\n",
       "      <td>R3HAB</td>\n",
       "      <td>6Wosx2euFPMT14UXiWudMy</td>\n",
       "      <td>Radio Silence</td>\n",
       "      <td>0.025000</td>\n",
       "      <td>0.603</td>\n",
       "      <td>138913</td>\n",
       "      <td>0.723</td>\n",
       "      <td>0.000</td>\n",
       "      <td>9</td>\n",
       "      <td>0.0824</td>\n",
       "      <td>-5.890</td>\n",
       "      <td>0</td>\n",
       "      <td>0.0454</td>\n",
       "      <td>114.966</td>\n",
       "      <td>4</td>\n",
       "      <td>0.382</td>\n",
       "      <td>56</td>\n",
       "    </tr>\n",
       "    <tr>\n",
       "      <th>3</th>\n",
       "      <td>Chris Cooq</td>\n",
       "      <td>3J2Jpw61sO7l6Hc7qdYV91</td>\n",
       "      <td>Lactose</td>\n",
       "      <td>0.029400</td>\n",
       "      <td>0.800</td>\n",
       "      <td>125381</td>\n",
       "      <td>0.579</td>\n",
       "      <td>0.912</td>\n",
       "      <td>5</td>\n",
       "      <td>0.0994</td>\n",
       "      <td>-12.118</td>\n",
       "      <td>0</td>\n",
       "      <td>0.0701</td>\n",
       "      <td>123.003</td>\n",
       "      <td>4</td>\n",
       "      <td>0.641</td>\n",
       "      <td>0</td>\n",
       "    </tr>\n",
       "    <tr>\n",
       "      <th>4</th>\n",
       "      <td>Chris Cooq</td>\n",
       "      <td>2jbYvQCyPgX3CdmAzeVeuS</td>\n",
       "      <td>Same - Original mix</td>\n",
       "      <td>0.000035</td>\n",
       "      <td>0.783</td>\n",
       "      <td>124016</td>\n",
       "      <td>0.792</td>\n",
       "      <td>0.878</td>\n",
       "      <td>7</td>\n",
       "      <td>0.0332</td>\n",
       "      <td>-10.277</td>\n",
       "      <td>1</td>\n",
       "      <td>0.0661</td>\n",
       "      <td>120.047</td>\n",
       "      <td>4</td>\n",
       "      <td>0.928</td>\n",
       "      <td>0</td>\n",
       "    </tr>\n",
       "  </tbody>\n",
       "</table>\n",
       "</div>"
      ],
      "text/plain": [
       "  artist_name                track_id  \\\n",
       "0          YG  2RM4jf1Xa9zPgMGRDiht8O   \n",
       "1          YG  1tHDG53xJNGsItRA3vfVgs   \n",
       "2       R3HAB  6Wosx2euFPMT14UXiWudMy   \n",
       "3  Chris Cooq  3J2Jpw61sO7l6Hc7qdYV91   \n",
       "4  Chris Cooq  2jbYvQCyPgX3CdmAzeVeuS   \n",
       "\n",
       "                                       track_name  acousticness  danceability  \\\n",
       "0  Big Bank feat. 2 Chainz, Big Sean, Nicki Minaj      0.005820         0.743   \n",
       "1                    BAND DRUM (feat. A$AP Rocky)      0.024400         0.846   \n",
       "2                                   Radio Silence      0.025000         0.603   \n",
       "3                                         Lactose      0.029400         0.800   \n",
       "4                             Same - Original mix      0.000035         0.783   \n",
       "\n",
       "   duration_ms  energy  instrumentalness  key  liveness  loudness  mode  \\\n",
       "0       238373   0.339             0.000    1    0.0812    -7.678     1   \n",
       "1       214800   0.557             0.000    8    0.2860    -7.259     1   \n",
       "2       138913   0.723             0.000    9    0.0824    -5.890     0   \n",
       "3       125381   0.579             0.912    5    0.0994   -12.118     0   \n",
       "4       124016   0.792             0.878    7    0.0332   -10.277     1   \n",
       "\n",
       "   speechiness    tempo  time_signature  valence  popularity  \n",
       "0       0.4090  203.927               4    0.118          15  \n",
       "1       0.4570  159.009               4    0.371           0  \n",
       "2       0.0454  114.966               4    0.382          56  \n",
       "3       0.0701  123.003               4    0.641           0  \n",
       "4       0.0661  120.047               4    0.928           0  "
      ]
     },
     "execution_count": 2,
     "metadata": {},
     "output_type": "execute_result"
    }
   ],
   "source": [
    "spotify_df = pd.read_csv(\"./data/SpotifyAudioFeaturesApril2019.csv\")\n",
    "spotify_df.head()"
   ]
  },
  {
   "cell_type": "markdown",
   "metadata": {},
   "source": [
    "This data is already upkept pretty well - each row records a single song and each column records specific attributes for that song."
   ]
  },
  {
   "cell_type": "code",
   "execution_count": 3,
   "metadata": {},
   "outputs": [
    {
     "data": {
      "text/plain": [
       "<matplotlib.axes._subplots.AxesSubplot at 0x7f4055c73320>"
      ]
     },
     "execution_count": 3,
     "metadata": {},
     "output_type": "execute_result"
    },
    {
     "data": {
      "image/png": "[encoded data removed]",
      "text/plain": [
       "<Figure size 432x288 with 2 Axes>"
      ]
     },
     "metadata": {
      "needs_background": "light"
     },
     "output_type": "display_data"
    }
   ],
   "source": [
    "correlation = spotify_df[spotify_df.columns.tolist()].corr()\n",
    "sns.heatmap(correlation, center = 0)"
   ]
  },
  {
   "cell_type": "markdown",
   "metadata": {},
   "source": [
    "This chart displays the correlation between all the quantifiable variables in the set.  Black indicates no correlation.  Blue hue indicates negative correlation and red hue indicates positive correlation.  \n",
    "\n",
    "This plot largely follows common sense.  Variables like key or duration (ms) wouldn't be correlated with variables that describe the feel of the music like acousticness, danceability, energy, etc etc.  On the other hand, it makes sense that energy and loudness are positively correlated, and that variables speechiness and instrumentalness are negatively correlated.\n",
    "\n",
    "Basically -- nothing too suprising here."
   ]
  },
  {
   "cell_type": "code",
   "execution_count": 33,
   "metadata": {},
   "outputs": [],
   "source": [
    "artist_counts = spotify_df[\"artist_name\"].value_counts()\n",
    "artist_counts_df = pd.DataFrame(artist_counts)"
   ]
  },
  {
   "cell_type": "code",
   "execution_count": 34,
   "metadata": {},
   "outputs": [
    {
     "data": {
      "text/html": [
       "<div>\n",
       "<style scoped>\n",
       "    .dataframe tbody tr th:only-of-type {\n",
       "        vertical-align: middle;\n",
       "    }\n",
       "\n",
       "    .dataframe tbody tr th {\n",
       "        vertical-align: top;\n",
       "    }\n",
       "\n",
       "    .dataframe thead th {\n",
       "        text-align: right;\n",
       "    }\n",
       "</style>\n",
       "<table border=\"1\" class=\"dataframe\">\n",
       "  <thead>\n",
       "    <tr style=\"text-align: right;\">\n",
       "      <th></th>\n",
       "      <th>artist_name</th>\n",
       "    </tr>\n",
       "  </thead>\n",
       "  <tbody>\n",
       "    <tr>\n",
       "      <th>Johann Sebastian Bach</th>\n",
       "      <td>3621</td>\n",
       "    </tr>\n",
       "    <tr>\n",
       "      <th>Wolfgang Amadeus Mozart</th>\n",
       "      <td>1755</td>\n",
       "    </tr>\n",
       "    <tr>\n",
       "      <th>Armin van Buuren</th>\n",
       "      <td>1124</td>\n",
       "    </tr>\n",
       "    <tr>\n",
       "      <th>Ludwig van Beethoven</th>\n",
       "      <td>928</td>\n",
       "    </tr>\n",
       "    <tr>\n",
       "      <th>Frédéric Chopin</th>\n",
       "      <td>614</td>\n",
       "    </tr>\n",
       "    <tr>\n",
       "      <th>Claude Debussy</th>\n",
       "      <td>451</td>\n",
       "    </tr>\n",
       "    <tr>\n",
       "      <th>Image Sounds</th>\n",
       "      <td>369</td>\n",
       "    </tr>\n",
       "    <tr>\n",
       "      <th>Waka Flocka Flame</th>\n",
       "      <td>273</td>\n",
       "    </tr>\n",
       "    <tr>\n",
       "      <th>Los Cadetes De Linares</th>\n",
       "      <td>266</td>\n",
       "    </tr>\n",
       "    <tr>\n",
       "      <th>Antonio Vivaldi</th>\n",
       "      <td>254</td>\n",
       "    </tr>\n",
       "  </tbody>\n",
       "</table>\n",
       "</div>"
      ],
      "text/plain": [
       "                         artist_name\n",
       "Johann Sebastian Bach           3621\n",
       "Wolfgang Amadeus Mozart         1755\n",
       "Armin van Buuren                1124\n",
       "Ludwig van Beethoven             928\n",
       "Frédéric Chopin                  614\n",
       "Claude Debussy                   451\n",
       "Image Sounds                     369\n",
       "Waka Flocka Flame                273\n",
       "Los Cadetes De Linares           266\n",
       "Antonio Vivaldi                  254"
      ]
     },
     "execution_count": 34,
     "metadata": {},
     "output_type": "execute_result"
    }
   ],
   "source": [
    "artist_counts_df.head(10)"
   ]
  },
  {
   "cell_type": "markdown",
   "metadata": {},
   "source": [
    "As a little experiment, I'm going to try to plot the relationship between the amount of times an artist appears in the data set with their mean popularity."
   ]
  },
  {
   "cell_type": "code",
   "execution_count": 25,
   "metadata": {},
   "outputs": [],
   "source": [
    "mean_pop = spotify_df.groupby(\"artist_name\")[\"popularity\"].mean()"
   ]
  },
  {
   "cell_type": "code",
   "execution_count": 47,
   "metadata": {},
   "outputs": [],
   "source": [
    "artist_counts_df = artist_counts_df.rename(columns={\"artist_name\": \"freq\"})"
   ]
  },
  {
   "cell_type": "code",
   "execution_count": 48,
   "metadata": {},
   "outputs": [
    {
     "data": {
      "text/html": [
       "<div>\n",
       "<style scoped>\n",
       "    .dataframe tbody tr th:only-of-type {\n",
       "        vertical-align: middle;\n",
       "    }\n",
       "\n",
       "    .dataframe tbody tr th {\n",
       "        vertical-align: top;\n",
       "    }\n",
       "\n",
       "    .dataframe thead th {\n",
       "        text-align: right;\n",
       "    }\n",
       "</style>\n",
       "<table border=\"1\" class=\"dataframe\">\n",
       "  <thead>\n",
       "    <tr style=\"text-align: right;\">\n",
       "      <th></th>\n",
       "      <th>freq</th>\n",
       "      <th>mean_pop</th>\n",
       "    </tr>\n",
       "  </thead>\n",
       "  <tbody>\n",
       "    <tr>\n",
       "      <th>Johann Sebastian Bach</th>\n",
       "      <td>3621</td>\n",
       "      <td>8.880144</td>\n",
       "    </tr>\n",
       "    <tr>\n",
       "      <th>Wolfgang Amadeus Mozart</th>\n",
       "      <td>1755</td>\n",
       "      <td>10.437607</td>\n",
       "    </tr>\n",
       "    <tr>\n",
       "      <th>Armin van Buuren</th>\n",
       "      <td>1124</td>\n",
       "      <td>14.883452</td>\n",
       "    </tr>\n",
       "    <tr>\n",
       "      <th>Ludwig van Beethoven</th>\n",
       "      <td>928</td>\n",
       "      <td>11.779095</td>\n",
       "    </tr>\n",
       "    <tr>\n",
       "      <th>Frédéric Chopin</th>\n",
       "      <td>614</td>\n",
       "      <td>13.648208</td>\n",
       "    </tr>\n",
       "    <tr>\n",
       "      <th>Claude Debussy</th>\n",
       "      <td>451</td>\n",
       "      <td>11.077605</td>\n",
       "    </tr>\n",
       "    <tr>\n",
       "      <th>Image Sounds</th>\n",
       "      <td>369</td>\n",
       "      <td>0.192412</td>\n",
       "    </tr>\n",
       "    <tr>\n",
       "      <th>Waka Flocka Flame</th>\n",
       "      <td>273</td>\n",
       "      <td>12.717949</td>\n",
       "    </tr>\n",
       "    <tr>\n",
       "      <th>Los Cadetes De Linares</th>\n",
       "      <td>266</td>\n",
       "      <td>6.454887</td>\n",
       "    </tr>\n",
       "    <tr>\n",
       "      <th>Antonio Vivaldi</th>\n",
       "      <td>254</td>\n",
       "      <td>15.023622</td>\n",
       "    </tr>\n",
       "  </tbody>\n",
       "</table>\n",
       "</div>"
      ],
      "text/plain": [
       "                         freq   mean_pop\n",
       "Johann Sebastian Bach    3621   8.880144\n",
       "Wolfgang Amadeus Mozart  1755  10.437607\n",
       "Armin van Buuren         1124  14.883452\n",
       "Ludwig van Beethoven      928  11.779095\n",
       "Frédéric Chopin           614  13.648208\n",
       "Claude Debussy            451  11.077605\n",
       "Image Sounds              369   0.192412\n",
       "Waka Flocka Flame         273  12.717949\n",
       "Los Cadetes De Linares    266   6.454887\n",
       "Antonio Vivaldi           254  15.023622"
      ]
     },
     "execution_count": 48,
     "metadata": {},
     "output_type": "execute_result"
    }
   ],
   "source": [
    "artist_counts_df['mean_pop'] = mean_pop\n",
    "artist_counts_df.head(10)"
   ]
  },
  {
   "cell_type": "code",
   "execution_count": 45,
   "metadata": {},
   "outputs": [
    {
     "data": {
      "text/plain": [
       "<matplotlib.axes._subplots.AxesSubplot at 0x7f40533228d0>"
      ]
     },
     "execution_count": 45,
     "metadata": {},
     "output_type": "execute_result"
    },
    {
     "data": {
      "image/png": "[encoded data removed]",
      "text/plain": [
       "<Figure size 432x288 with 1 Axes>"
      ]
     },
     "metadata": {
      "needs_background": "light"
     },
     "output_type": "display_data"
    }
   ],
   "source": [
    "artist_counts_df.plot(x = \"freq\", y = \"mean_pop\", kind = \"scatter\")"
   ]
  },
  {
   "cell_type": "markdown",
   "metadata": {},
   "source": [
    "This isn't very illustritive, so I'll filter it to zoom in on the lower part of the scale."
   ]
  },
  {
   "cell_type": "code",
   "execution_count": 44,
   "metadata": {},
   "outputs": [
    {
     "data": {
      "text/plain": [
       "<matplotlib.axes._subplots.AxesSubplot at 0x7f40544e8208>"
      ]
     },
     "execution_count": 44,
     "metadata": {},
     "output_type": "execute_result"
    },
    {
     "data": {
      "image/png": "[encoded data removed]",
      "text/plain": [
       "<Figure size 432x288 with 1 Axes>"
      ]
     },
     "metadata": {
      "needs_background": "light"
     },
     "output_type": "display_data"
    }
   ],
   "source": [
    "artist_counts_df[artist_counts_df['freq'] <= 100].plot(x = \"freq\", y = \"mean_pop\", kind = \"scatter\")"
   ]
  },
  {
   "cell_type": "markdown",
   "metadata": {},
   "source": [
    "Still isn't incredibly informative, but we can at least deduce that the most popular artists have less songs in the dataset. This might be because emerging artists get lots of hype and streams, and jump to the top of the charts.  "
   ]
  },
  {
   "cell_type": "code",
   "execution_count": null,
   "metadata": {},
   "outputs": [],
   "source": []
  }
 ],
 "metadata": {
  "kernelspec": {
   "display_name": "Python 3",
   "language": "python",
   "name": "python3"
  },
  "language_info": {
   "codemirror_mode": {
    "name": "ipython",
    "version": 3
   },
   "file_extension": ".py",
   "mimetype": "text/x-python",
   "name": "python",
   "nbconvert_exporter": "python",
   "pygments_lexer": "ipython3",
   "version": "3.7.3"
  }
 },
 "nbformat": 4,
 "nbformat_minor": 2
}
