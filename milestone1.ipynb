{
 "cells": [
  {
   "cell_type": "markdown",
   "metadata": {},
   "source": [
    "# Tutorial Milestone 1 - Jacob Gartenstein"
   ]
  },
  {
   "attachments": {},
   "cell_type": "markdown",
   "metadata": {},
   "source": [
    "   For this tutorial, I plan on analyzing one of several datasets relating to music features, reviews, and consumption.  Music is my proposed focus because it relates to my life and studies in areas outside of computer science.  My second major is Jazz Studies, and my computer science capstone is a machine learning project that aims to create a generative dance graphic based on data connecting musical features and dance patterns.  This tutorial will help with my own work in this project, for which we will also be scraping and analyzing the song data provided by the Spotify API.  Below I propose three data sets of potential focus for this tutorial.\n",
    "\n",
    "Spotify Audio Features – Available on Kaggle, posted by tomigelo \n",
    "\tThis Spotify Audio Features dataset is the most intriguing to me because of its relation to my capstone project.  The dataset describes songs (rows) with several different variables, including artist name, track ID, track name, artist name.  The remaining 18 variables are the audio features themselves, which include common musical features like duration, tempo, time signature, and key signature, and also other features coined by Spotify, for example acousticness and danceability.  There’s information about roughly 130k songs in the dataset.  My primary source of interest in this dataset is the connection with my capstone project, and the prospect of having multiple opportunities for different classes to familiarize myself with this information and how to work with it efficiently.  I also think that the finalized tutorial for this course done on the Spotify API would be a valuable resource to include with the capstone project, and it could even be edited to describe exactly the processes involved in the capstone.  For the tutorial, this data could be analyzed in several ways.  Various audio features could be combined and compared in order to reach informative conclusions.  For example, what effect does tempo have on danceability?  What connection might mode (the musical mode, scale or sound of a piece) have with Spotify’s variable valence (happiness meter, basically)?  The dataset is also alluring because of its size and uniformity -  13k songs is a lot, and Spotify describes exactly the format of each feature on its website. \n",
    "\n",
    "Spotify’s Worldwide Daily Song Ranking – Available on Kaggle, posted by Eduardo \n",
    "\tOnce again, this dataset is compiled from information provided by Spotify.  This data, however, pertains to users’ consumption of the music rather than attributes of the music itself.  The data set contains two years worth of daily rankings 1 – 200 for the most listened songs on Spotify in 53 different countries.  There are over 2 million rows of data corresponding to 18,598 different songs and 105 billion total streams.  This information can be analyzed to produce interesting findings related to longevity of popularity of songs, trends in popular music in different regions of the world, and countless other observations. \n",
    "\n",
    "Amazon’s Digital Music Purchase Reviews  -- \n",
    "\tThis dataset, provided by some guy on reddit assumedly via Amazon, gives over 1 million different user reviews on digital music purchased from Amazon.  The direct input from users makes this an interesting dataset to work with, and analysis would require more text parsing then with the other sets.  For this, it would be interesting to find trends in key words within reviews, and explore connections between those keywords and the music being reviewed.  \n"
   ]
  },
  {
   "cell_type": "code",
   "execution_count": null,
   "metadata": {},
   "outputs": [],
   "source": []
  }
 ],
 "metadata": {
  "kernelspec": {
   "display_name": "Python 3",
   "language": "python",
   "name": "python3"
  },
  "language_info": {
   "codemirror_mode": {
    "name": "ipython",
    "version": 3
   },
   "file_extension": ".py",
   "mimetype": "text/x-python",
   "name": "python",
   "nbconvert_exporter": "python",
   "pygments_lexer": "ipython3",
   "version": "3.7.3"
  }
 },
 "nbformat": 4,
 "nbformat_minor": 2
}
